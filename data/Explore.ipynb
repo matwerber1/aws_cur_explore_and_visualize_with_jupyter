{
 "cells": [
  {
   "cell_type": "markdown",
   "id": "5d2ee77d-46cb-49bb-923e-c05772a9f12c",
   "metadata": {},
   "source": [
    "## Import dependencies"
   ]
  },
  {
   "cell_type": "code",
   "execution_count": null,
   "id": "35d15c5d-2605-416d-ba0b-69b24670056d",
   "metadata": {},
   "outputs": [],
   "source": [
    "import os\n",
    "import pandas as pd\n",
    "import json\n",
    "import importlib\n",
    "import notebook_tools as tools\n",
    "import pygwalker as pyg\n",
    "from pandasql import PandaSQL\n",
    "pdsql = PandaSQL()\n",
    "tools.configure()"
   ]
  },
  {
   "cell_type": "markdown",
   "id": "a50ebc2b-e671-4ed7-9032-d837ff8c3684",
   "metadata": {},
   "source": [
    "# Configure AWS Profile\n",
    "\n",
    "Note that the value of `AWS_PROFILE` should match a valid profile in `~/.aws/config` on your host machine (which we mount to this container in the Docker Compose template).\n",
    "\n",
    "If `sts get-caller-identity` fails, it typically means that your AWS CLI profile on your host is not configured, credentials have expired (e.g. if using SSO). The first step to troubleshooting would be to try using `aws sts get-caller-identity --profile <profile_you_use_below>` from a shell directly on the host. If that fails, the problem is likely not related to this project or container configuration."
   ]
  },
  {
   "cell_type": "code",
   "execution_count": null,
   "id": "0f37b90a-b384-4b08-9139-395c7e278703",
   "metadata": {},
   "outputs": [],
   "source": [
    "# CHANGE TO WHATEVER PROFILE YOU WANT TO USE LOCALLY\n",
    "os.environ[\"AWS_PROFILE\"] = \"personal-mgmt-admin\"\n",
    "!aws sts get-caller-identity"
   ]
  },
  {
   "cell_type": "markdown",
   "id": "e8c17e36-545f-48fb-a07c-2ecedf9ccb6a",
   "metadata": {},
   "source": [
    "# Download CUR from AWS S3\n",
    "\n",
    "The `aws s3 sync` CLI command will only download new or changed file that match the query filters."
   ]
  },
  {
   "cell_type": "code",
   "execution_count": null,
   "id": "fd39c8d7-9b68-4fa3-998f-ee38b25f7664",
   "metadata": {},
   "outputs": [],
   "source": [
    "BUCKET_NAME = \"temp-cost-reports-123456789012\"\n",
    "BUCKET_REGION = 'us-west-2'\n",
    "OBJECT_PREFIX=\"\"\n",
    "\n",
    "!aws s3 ls \"s3://{BUCKET_NAME}/{OBJECT_PREFIX}\" --recursive | grep  \".parquet$\"\n",
    "!aws s3 sync \"s3://{BUCKET_NAME}/{OBJECT_PREFIX}\" \"s3\" --exclude \"*\" --include \"*.parquet\""
   ]
  },
  {
   "cell_type": "markdown",
   "id": "510d89b7-1b39-474e-a6a0-a944bb35c84e",
   "metadata": {},
   "source": [
    "# Load AWS CUR from Parquet files\n",
    "\n",
    "Limiting columns can reduce memory footprint and speed things up."
   ]
  },
  {
   "cell_type": "code",
   "execution_count": null,
   "id": "de2fa0f9-88ba-44a1-ae99-8e7d4648a3a3",
   "metadata": {},
   "outputs": [],
   "source": [
    "columns_to_import=[\n",
    "    'line_item_line_item_type', \n",
    "    'line_item_usage_start_date', \n",
    "    'line_item_usage_end_date', \n",
    "    'line_item_usage_account_id', \n",
    "    'line_item_resource_id', \n",
    "    'product_region', \n",
    "    'line_item_usage_type',\n",
    "    'line_item_line_item_description', \n",
    "    'line_item_usage_amount', \n",
    "    'line_item_operation',\n",
    "    'pricing_unit',\n",
    "    'line_item_unblended_rate', \n",
    "    'product_product_family',\n",
    "    'product_product_name', \n",
    "    'line_item_product_code',\n",
    "    'product_servicecode', \n",
    "    'product_servicename', \n",
    "    'product_group', \n",
    "    'product_group_description', \n",
    "    'product_storage_family', \n",
    "    'product_compute_family',\n",
    "    'product_instance_type_family',\n",
    "    'product_instance_family', \n",
    "    'product_cpu_architecture', \n",
    "    'line_item_unblended_cost', \n",
    "    'product_region_code',\n",
    "    'product_location_type', \n",
    "    'product_location',\n",
    "    'product_from_region_code', \n",
    "    'product_from_location', \n",
    "    'product_from_location_type', \n",
    "    'line_item_availability_zone', \n",
    "    'product_transfer_type'\n",
    "]\n",
    "\n",
    "df = tools.import_cur_to_df(\n",
    "    path_pattern=\"./s3/**/*.parquet\",\n",
    "    exclude_row_filters=[\n",
    "        [(\"line_item_unblended_cost\", \">=\", 0.01)],\n",
    "    ],\n",
    "    columns_to_import=columns_to_import,\n",
    "    new_column_names_file=\"./config/column_renames.json\",\n",
    "    parse_resource_ids=True\n",
    ")"
   ]
  },
  {
   "cell_type": "markdown",
   "id": "ea8ebefa-b294-4749-b774-89db508b9f4a",
   "metadata": {},
   "source": [
    "# Overview of data"
   ]
  },
  {
   "cell_type": "markdown",
   "id": "e8ee0833-3339-432e-bb05-87464c9fa4b7",
   "metadata": {},
   "source": [
    "## Column description"
   ]
  },
  {
   "cell_type": "code",
   "execution_count": null,
   "id": "4e69bc12-4ed1-4b60-818f-9507ac0519a0",
   "metadata": {
    "scrolled": true
   },
   "outputs": [],
   "source": [
    "tools.describe_df(df)"
   ]
  },
  {
   "cell_type": "markdown",
   "id": "10d948ce-a77e-4e84-93d3-bccf35518063",
   "metadata": {},
   "source": [
    "## Sample rows from source file"
   ]
  },
  {
   "cell_type": "code",
   "execution_count": null,
   "id": "07412b47-110e-4c2a-8dfd-187c34cebd25",
   "metadata": {},
   "outputs": [],
   "source": [
    "display(df.sample(n=2))"
   ]
  },
  {
   "cell_type": "markdown",
   "id": "07ce676d-5a36-424d-8eed-6eec426f7813",
   "metadata": {},
   "source": [
    "# Example - running SQL directly on dataframe"
   ]
  },
  {
   "cell_type": "code",
   "execution_count": null,
   "id": "b3c7c689-3b44-4728-bd25-061561259ab3",
   "metadata": {},
   "outputs": [],
   "source": [
    "pd.set_option('display.float_format', lambda x: '%.3f' % x)"
   ]
  },
  {
   "cell_type": "code",
   "execution_count": null,
   "id": "82df29c5-b4fa-43a5-afc2-270bdc570a5f",
   "metadata": {},
   "outputs": [],
   "source": [
    "query = \"\"\"\n",
    "SELECT \n",
    "    resource_type, \n",
    "    sum(quantity) as usage, \n",
    "    pricing_unit, \n",
    "    sum(cost) as cost\n",
    "FROM \n",
    "    df\n",
    "GROUP BY \n",
    "    resource_type,\n",
    "    pricing_unit\n",
    "ORDER BY cost ASC\n",
    "\"\"\"\n",
    "\n",
    "result = pdsql(query)\n",
    "display(result.sample(5))"
   ]
  },
  {
   "cell_type": "markdown",
   "id": "f13cc1a6-5373-4168-ada5-43dd0af95e67",
   "metadata": {},
   "source": [
    "# Example - Creating visualizations\n",
    "\n",
    "The \"spec\" value is a local file where you can save the visualization configuration so that it's loaded on subsequent runs of this notebook."
   ]
  },
  {
   "cell_type": "code",
   "execution_count": null,
   "id": "82a9f2f9-0b19-4d75-beb0-2550903353db",
   "metadata": {},
   "outputs": [],
   "source": [
    "walker = pyg.walk(\n",
    "    df,                # your dataset, support pandas、polars、modin、spark(not recommended)\n",
    "    spec=\"./pywalker_specs/example.json\",       # this json will save your chart state, you need to click save button in ui mannual when you finish a chart, 'autosave' will be supported in the future.\n",
    "    use_preview=True,        # set `use_preview=True`, pygwalker will render preview charts when kernel stop.\n",
    ")"
   ]
  }
 ],
 "metadata": {
  "kernelspec": {
   "display_name": "Python 3 (ipykernel)",
   "language": "python",
   "name": "python3"
  },
  "language_info": {
   "codemirror_mode": {
    "name": "ipython",
    "version": 3
   },
   "file_extension": ".py",
   "mimetype": "text/x-python",
   "name": "python",
   "nbconvert_exporter": "python",
   "pygments_lexer": "ipython3",
   "version": "3.11.6"
  }
 },
 "nbformat": 4,
 "nbformat_minor": 5
}
